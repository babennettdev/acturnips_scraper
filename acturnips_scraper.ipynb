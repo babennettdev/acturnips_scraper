{
 "cells": [
  {
   "cell_type": "code",
   "execution_count": null,
   "metadata": {},
   "outputs": [],
   "source": [
    "#! /bin/env python\n",
    "\"\"\"\n",
    "Created on Sat Apr 11 14:25:00 2020\n",
    "\n",
    "@author: Blake Bennett\n",
    "\"\"\"\n",
    "\n",
    "import praw\n",
    "import pandas as pd\n",
    "import datetime as dt\n",
    "import acturnips_secrets as secrets"
   ]
  },
  {
   "cell_type": "code",
   "execution_count": null,
   "metadata": {},
   "outputs": [],
   "source": [
    "my_secrets = secrets.acturnips_secrets()\n",
    "client_id = my_secrets.get_client_id()\n",
    "client_secret = my_secrets.get_client_secret()\n",
    "user_agent = my_secrets.get_user_agent()\n",
    "username = my_secrets.get_username()\n",
    "password = my_secrets.get_password()\n",
    "print(client_id, client_secret, user_agent, username, password)"
   ]
  },
  {
   "cell_type": "code",
   "execution_count": null,
   "metadata": {},
   "outputs": [],
   "source": [
    "reddit = praw.Reddit(client_id=client_id, client_secret=client_secret,\\\n",
    "                     user_agent=user_agent, username=username, password=password)\n",
    "subreddit = reddit.subreddit('acturnips')\n",
    "top_subreddit = subreddit.top(limit=500)\n",
    "for submission in subreddit.top(limit=1):\n",
    "    print(submission.title, submission.id)"
   ]
  },
  {
   "cell_type": "code",
   "execution_count": null,
   "metadata": {},
   "outputs": [],
   "source": [
    "reddit_topics_dict = { \"title\":[], \\\n",
    "                       \"score\":[], \\\n",
    "                       \"id\":[], \\\n",
    "                       \"url\":[], \\\n",
    "                       \"comments_num\":[], \\\n",
    "                       \"time_created\":[], \\\n",
    "                       \"body_text\":[]}\n",
    "\n",
    "for submission in top_subreddit:\n",
    "    reddit_topics_dict[\"title\"].append(submission.title)\n",
    "    reddit_topics_dict[\"score\"].append(submission.score)\n",
    "    reddit_topics_dict[\"id\"].append(submission.id)\n",
    "    reddit_topics_dict[\"url\"].append(submission.url)\n",
    "    reddit_topics_dict[\"comments_num\"].append(submission.num_comments)\n",
    "    reddit_topics_dict[\"time_created\"].append(submission.created)\n",
    "    reddit_topics_dict[\"body_text\"].append(submission.selftext)\n",
    "    \n",
    "reddit_topics_data = pd.DataFrame(reddit_topics_dict)\n",
    "reddit_topics_data"
   ]
  },
  {
   "cell_type": "code",
   "execution_count": null,
   "metadata": {},
   "outputs": [],
   "source": []
  }
 ],
 "metadata": {
  "kernelspec": {
   "display_name": "Python 3",
   "language": "python",
   "name": "python3"
  },
  "language_info": {
   "codemirror_mode": {
    "name": "ipython",
    "version": 3
   },
   "file_extension": ".py",
   "mimetype": "text/x-python",
   "name": "python",
   "nbconvert_exporter": "python",
   "pygments_lexer": "ipython3",
   "version": "3.7.3"
  }
 },
 "nbformat": 4,
 "nbformat_minor": 2
}
